{
  "cells": [
    {
      "cell_type": "markdown",
      "metadata": {},
      "source": [
        "Курмашев Данил БПИ2303\n",
        "Лабораторная работа №4: Обучению первой модели на TensorFlow для распознавания рукописных цифр на датасете MNIST:\n",
        "\n",
        "Шаг 1: Загрузка и предобработка данных\n",
        "- Импортируйте необходимые библиотеки: tensorflow и tensorflow.keras.datasets.mnist\n",
        "- Загрузите датасет MNIST с помощью функции mnist.loaddata()\n",
        "- Предобработайте данные: нормализуйте их, преобразуйте в нужный формат (например, масштабирование от 0 до 1)\n",
        "\n",
        "Шаг 2: Создание нейронной сети\n",
        "- Используйте модель Sequential из библиотеки tensorflow.keras.models\n",
        "- Добавьте слои к модели: открытый слой Flatten с inputshape=(28, 28), полносвязанный слой Dense с 128 нейронами и функцией активации ReLU, полносвязанный слой Dense с 10 нейронами и функцией активации softmax\n",
        "\n",
        "Шаг 3: Компиляция модели\n",
        "- Компилируйте модель с оптимизатором 'adam', функцией потерь 'sparsecategoricalcrossentropy' и метрикой 'accuracy'\n",
        "\n",
        "Шаг 4: Обучение модели\n",
        "- Используйте метод fit для обучения модели на обучающем наборе данных с указанием числа эпох (например, 5 эпох)\n",
        "\n",
        "Шаг 5: Оценка качества модели\n",
        "- Используйте метод evaluate для оценки качества модели на тестовом наборе данных\n",
        "- Выведите точность модели на тестовом наборе данных\n",
        "\n",
        "Шаг 6: Анализ результатов\n",
        "- Импортируйте библиотеку matplotlib.pyplot для построения графика\n",
        "- Постройте график кривой обучения (accuracy) с помощью данных из истории обучения"
      ]
    },
    {
      "cell_type": "markdown",
      "metadata": {},
      "source": [
        "Для начала импортируем библиотеки предварительно установив их. __future__ означает что код будет работать на разлиных версиях python\n",
        "\n",
        "(x_train, y_train), (x_test, y_test) = mnist.load_data(): Загружает датасет MNIST и разделяет его на тренировочный и тестовый наборы данных.\n",
        "\n",
        "x_train и x_test — это изображения рукописных цифр, а y_train и y_test — это метки классов (цифр от 0 до 9).\n",
        "\n",
        "x_train, x_test = x_train / 255.0, x_test / 255.0: Нормализует изображения, деля все пиксели на 255, чтобы привести их в диапазон от 0 до 1."
      ]
    },
    {
      "cell_type": "code",
      "execution_count": 9,
      "metadata": {},
      "outputs": [],
      "source": [
        "from __future__ import absolute_import, division, print_function, unicode_literals\n",
        "import tensorflow as tf\n",
        "import numpy as np\n",
        "from tensorflow.keras.datasets import mnist\n",
        "import matplotlib.pyplot as plt\n",
        "\n",
        "# Загрузка датасета MNIST\n",
        "(x_train, y_train), (x_test, y_test) = mnist.load_data()\n",
        "\n",
        "# Предобработка данных\n",
        "x_train, x_test = x_train / 255.0, x_test / 255.0"
      ]
    },
    {
      "cell_type": "markdown",
      "metadata": {},
      "source": [
        "model = tf.keras.models.Sequential используется для последовательного создания модели Keras.\n",
        "\n",
        "tf.keras.Input(shape=(28, 28)) Создает входной слой для Keras c входными данными размером 28 на 28 пикселей.\n",
        "\n",
        "tf.keras.layers.Flatten() Добавляет слой \"Flatten\" в плоский массив для передачи в полносвязанный слой.\n",
        "\n",
        "tf.keras.layers.Dense(128, activation='relu') Добавляет полносвязанный слой с 128 нейронами и функцией активации ReLU.\n",
        "\n",
        "tf.keras.layers.Dense(10, activation='softmax') Добавляет выходной полносвязанный слой с 10 нейронами (по количеству классов в датасете MNIST) и функцией активации softmax."
      ]
    },
    {
      "cell_type": "code",
      "execution_count": 10,
      "metadata": {},
      "outputs": [],
      "source": [
        "# Создание нейронной сети\n",
        "model = tf.keras.models.Sequential([\n",
        "    tf.keras.Input(shape=(28, 28)),\n",
        "    tf.keras.layers.Flatten(),\n",
        "    tf.keras.layers.Dense(128, activation='relu'),\n",
        "    tf.keras.layers.Dense(10, activation='softmax')\n",
        "])"
      ]
    },
    {
      "cell_type": "markdown",
      "metadata": {},
      "source": [
        "Используем оптимизатор 'adam', функцию потерь 'sparse_categorical_crossentropy', и метрику 'accuracy'."
      ]
    },
    {
      "cell_type": "code",
      "execution_count": 11,
      "metadata": {},
      "outputs": [],
      "source": [
        "# Компиляция модели\n",
        "model.compile(optimizer='adam',\n",
        "              loss='sparse_categorical_crossentropy',\n",
        "              metrics=['accuracy'])\n"
      ]
    },
    {
      "cell_type": "markdown",
      "metadata": {},
      "source": [
        "Обучаем модель на тренировочном наборе данных (x_train, y_train) в течение 5 эпох."
      ]
    },
    {
      "cell_type": "code",
      "execution_count": 12,
      "metadata": {},
      "outputs": [
        {
          "name": "stdout",
          "output_type": "stream",
          "text": [
            "Epoch 1/5\n",
            "\u001b[1m1875/1875\u001b[0m \u001b[32m━━━━━━━━━━━━━━━━━━━━\u001b[0m\u001b[37m\u001b[0m \u001b[1m3s\u001b[0m 1ms/step - accuracy: 0.8861 - loss: 0.4147\n",
            "Epoch 2/5\n",
            "\u001b[1m1875/1875\u001b[0m \u001b[32m━━━━━━━━━━━━━━━━━━━━\u001b[0m\u001b[37m\u001b[0m \u001b[1m2s\u001b[0m 1ms/step - accuracy: 0.9645 - loss: 0.1192\n",
            "Epoch 3/5\n",
            "\u001b[1m1875/1875\u001b[0m \u001b[32m━━━━━━━━━━━━━━━━━━━━\u001b[0m\u001b[37m\u001b[0m \u001b[1m2s\u001b[0m 1ms/step - accuracy: 0.9771 - loss: 0.0786\n",
            "Epoch 4/5\n",
            "\u001b[1m1875/1875\u001b[0m \u001b[32m━━━━━━━━━━━━━━━━━━━━\u001b[0m\u001b[37m\u001b[0m \u001b[1m2s\u001b[0m 1ms/step - accuracy: 0.9828 - loss: 0.0572\n",
            "Epoch 5/5\n",
            "\u001b[1m1875/1875\u001b[0m \u001b[32m━━━━━━━━━━━━━━━━━━━━\u001b[0m\u001b[37m\u001b[0m \u001b[1m2s\u001b[0m 1ms/step - accuracy: 0.9869 - loss: 0.0435\n"
          ]
        }
      ],
      "source": [
        "# Обучение модели\n",
        "history = model.fit(x_train, y_train, epochs=5)"
      ]
    },
    {
      "cell_type": "markdown",
      "metadata": {},
      "source": [
        "Оцениваем модель на тестовом наборе данных (x_test, y_test) и возвращает потери и точность."
      ]
    },
    {
      "cell_type": "code",
      "execution_count": 13,
      "metadata": {},
      "outputs": [
        {
          "name": "stdout",
          "output_type": "stream",
          "text": [
            "\u001b[1m313/313\u001b[0m \u001b[32m━━━━━━━━━━━━━━━━━━━━\u001b[0m\u001b[37m\u001b[0m \u001b[1m0s\u001b[0m 606us/step - accuracy: 0.9701 - loss: 0.1040\n",
            "Точность модели на тестовом наборе данных: 0.9732999801635742\n"
          ]
        }
      ],
      "source": [
        "# Оценка качества модели\n",
        "test_loss, test_accuracy = model.evaluate(x_test, y_test)\n",
        "print(f'Точность модели на тестовом наборе данных: {test_accuracy}')"
      ]
    },
    {
      "cell_type": "markdown",
      "metadata": {},
      "source": [
        "Строим график точности модели по эпохам, используя историю обучения модели.\n",
        "Устанавливаем заголовок графика.\n",
        "Устанавливаем метку на оси Y.\n",
        "Устанавливаем метку на оси X.\n",
        "Отображаем график на экране."
      ]
    },
    {
      "cell_type": "code",
      "execution_count": 14,
      "metadata": {
        "id": "rHwpEP3WLEUX"
      },
      "outputs": [
        {
          "data": {
            "image/png": "[encoded data removed]",
            "text/plain": [
              "<Figure size 640x480 with 1 Axes>"
            ]
          },
          "metadata": {},
          "output_type": "display_data"
        }
      ],
      "source": [
        "# Анализ результатов\n",
        "plt.plot(history.history['accuracy'])\n",
        "plt.title('Model accuracy')\n",
        "plt.ylabel('Accuracy')\n",
        "plt.xlabel('Epoch')\n",
        "plt.show()"
      ]
    }
  ],
  "metadata": {
    "colab": {
      "provenance": []
    },
    "kernelspec": {
      "display_name": "Python 3",
      "name": "python3"
    },
    "language_info": {
      "codemirror_mode": {
        "name": "ipython",
        "version": 3
      },
      "file_extension": ".py",
      "mimetype": "text/x-python",
      "name": "python",
      "nbconvert_exporter": "python",
      "pygments_lexer": "ipython3",
      "version": "3.11.9"
    }
  },
  "nbformat": 4,
  "nbformat_minor": 0
}
