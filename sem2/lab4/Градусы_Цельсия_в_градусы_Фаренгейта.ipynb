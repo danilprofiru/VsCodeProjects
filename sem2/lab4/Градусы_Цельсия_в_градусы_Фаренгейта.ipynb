{
  "nbformat": 4,
  "nbformat_minor": 0,
  "metadata": {
    "colab": {
      "provenance": [],
      "toc_visible": true
    },
    "kernelspec": {
      "name": "python3",
      "display_name": "Python 3"
    }
  },
  "cells": [
    {
      "cell_type": "markdown",
      "metadata": {
        "id": "5jJuIUKngWZs"
      },
      "source": [
        "# Основы: обучение первой модели"
      ]
    },
    {
      "cell_type": "markdown",
      "metadata": {
        "id": "PBxgFiWLgir4"
      },
      "source": [
        "Добро пожаловать в CoLab, где мы будем тренировать нашу первую модель машинного обучения!\n",
        "\n",
        "Мы постараемся сохранять простоту преподносимого материала и ввести только базовые понятия необходимые для работы. Последующие CoLabs будут содержать более продвинутые техники.\n",
        "\n",
        "Задача, которую мы будем решать - преобразование градусов Цельсия в градусы Фаренгейта. Формула преобразования выглядит следующим образом:\n",
        "\n",
        "$$ f = c \\times 1.8 + 32 $$\n",
        "\n",
        "Безусловно, было бы проще просто написать функцию конвертации на Python или любом другом языке программирования, которая бы выполняла непосредственные вычисления, но в таком случае это не было бы машинным обучением :)\n",
        "\n",
        "Вместо этого мы подадим на вход TensorFlow имеющиеся у нас входные значения градусов Цельсия (0, 8, 15, 22, 38) и их соответствующие градусы по Фаренгейту (32, 46, 59, 72, 100). Затем мы натренируем модель таким образом, чтобы та примерно соответствовала приведённой выше формуле."
      ]
    },
    {
      "cell_type": "markdown",
      "metadata": {
        "id": "sSrQQgSwh9n3"
      },
      "source": [
        "# Импорт зависимостей"
      ]
    },
    {
      "cell_type": "markdown",
      "metadata": {
        "id": "HC0y9JVAiTO_"
      },
      "source": [
        "Первым делом импортируем TensorFlow. Здесь и в последующем мы сокращённо называем его `tf`. Мы так же настраиваем уровень логгирования - только ошибки.\n",
        "\n",
        "Далее, импортируем `NumPy` как `np`. Numpy помогает нам представить наши данные в виде высокоэффективных списков."
      ]
    },
    {
      "cell_type": "code",
      "metadata": {
        "id": "_FYdsC-ri0iW"
      },
      "source": [
        "from __future__ import absolute_import, division, print_function, unicode_literals\n",
        "import tensorflow as tf\n",
        "\n",
        "\n",
        "import numpy as np"
      ],
      "execution_count": 40,
      "outputs": []
    },
    {
      "cell_type": "markdown",
      "metadata": {
        "id": "RDBH8oapjKX0"
      },
      "source": [
        "# Подготовим данные для тренировки"
      ]
    },
    {
      "cell_type": "markdown",
      "metadata": {
        "id": "IsCiSe90jQ75"
      },
      "source": [
        "Как мы уже видели ранее, методика машинного обучения с учителем основывается на поиске алгоритма преобразования входных данных в выходные. Так как задачей этого CoLab является создание модели, которая может выдать результат преобразования градусов по Фаренгейту в градусы Цельсия, создадим два списка - `celsius_q` и `fahrenheit_a`, которые мы используем при обучении нашей модели."
      ]
    },
    {
      "cell_type": "code",
      "metadata": {
        "id": "JZpo2gJFkFNb",
        "outputId": "7566e6c9-535f-43db-9680-096ba3bfabba",
        "colab": {
          "base_uri": "https://localhost:8080/"
        }
      },
      "source": [
        "celsius_q    = np.array([-40, -10, 0, 8, 15, 22, 38], dtype=float)\n",
        "fahrenheit_a = np.array([-40, 14, 32, 46, 59, 72, 100], dtype=float)\n",
        "\n",
        "for i,c in enumerate(celsius_q):\n",
        "  print(\"{} градусов Цельсия = {} градусов Фаренгейта\".format(c, fahrenheit_a[i]))"
      ],
      "execution_count": 41,
      "outputs": [
        {
          "output_type": "stream",
          "name": "stdout",
          "text": [
            "-40.0 градусов Цельсия = -40.0 градусов Фаренгейта\n",
            "-10.0 градусов Цельсия = 14.0 градусов Фаренгейта\n",
            "0.0 градусов Цельсия = 32.0 градусов Фаренгейта\n",
            "8.0 градусов Цельсия = 46.0 градусов Фаренгейта\n",
            "15.0 градусов Цельсия = 59.0 градусов Фаренгейта\n",
            "22.0 градусов Цельсия = 72.0 градусов Фаренгейта\n",
            "38.0 градусов Цельсия = 100.0 градусов Фаренгейта\n"
          ]
        }
      ]
    },
    {
      "cell_type": "markdown",
      "metadata": {
        "id": "v7R9_IElk4p7"
      },
      "source": [
        "**Некоторая терминология машинного обучения**\n",
        "\n",
        "\n",
        "\n",
        "*   **Свойство (признак)** - входное(ые) значение нашей модели. В данном случае единичное значение - градусы Цельсия.\n",
        "* **Метки** - выходные значения, которые наша модель предсказывает. В данном случае единичное значение - градусы Фаренгейта.\n",
        "* **Пример** - пара входных-выходных значений используемых для тренировки. В данном случае это пара значений из `celsius_q` и `fahrenheit_a` под определённым индексом, например, `(22,72)`.\n",
        "\n"
      ]
    },
    {
      "cell_type": "markdown",
      "metadata": {
        "id": "y6f1arb6lBjy"
      },
      "source": [
        "# Создаём модель"
      ]
    },
    {
      "cell_type": "markdown",
      "metadata": {
        "id": "BdjvHCZLmCo8"
      },
      "source": [
        "Далее мы создаём модель. Мы будем использовать максимально упрощенную модель - модель плотной сети (`Dense`-сеть).\n",
        "Так как задача достаточно незамысловата, то и сеть будет состоять из единственного слоя с единственным нейроном."
      ]
    },
    {
      "cell_type": "markdown",
      "metadata": {
        "id": "o3WatarXnNIH"
      },
      "source": [
        "**Строим сеть**\n",
        "\n",
        "Мы назовём слой `l0` (**l**ayer и ноль) и создадим его, инициализировав `tf.keras.layers.Dense` со следующими параметрами:\n",
        "\n",
        "* `input_shape=[1]` - этот параметр определяет размерность входного параметра - единичное значение. Массив размером $ 1 \\times 1 $ с единственным значением. Так как это первый (и единственный) слой, то и размерность входных данных соответствует размерности всей модели. Единственное значение - значение с плавающей запятой, представляющее градусы Цельсия.\n",
        "\n",
        "* `units=1` - этот параметр определяет количество нейронов в слое. Количество нейронов определяет то, как много внутренних переменных слоя будет использовано для обучения при поиске решения поставленной задачи. Так как это последний слой, то его размерность равна размерности результата - выходного значения модели - единственного числа с плавающей запятой представляющего собой градусы Фаренгейта. (В многослойной сети размеры и форма слоя `input_shape` должны соответствовать размерам и формам следующего слоя)."
      ]
    },
    {
      "cell_type": "code",
      "metadata": {
        "id": "rEl0XZP_qID-"
      },
      "source": [
        "l0 = tf.keras.layers.Dense(units=1, input_shape=[1])"
      ],
      "execution_count": 42,
      "outputs": []
    },
    {
      "cell_type": "markdown",
      "metadata": {
        "id": "kk-U2bY4qQGF"
      },
      "source": [
        "### Преобразуем слои в модель"
      ]
    },
    {
      "cell_type": "markdown",
      "metadata": {
        "id": "gijN_UwhqVEY"
      },
      "source": [
        "Как только слои определены их необходимо преобразовать в модель. `Sequential`-модель принимает в качестве аргументов перечень слоёв в том порядке в котором их необходимо применять - от входного значения до выходного значения.\n",
        "\n",
        "У нашей модели всего один слой - `l0`."
      ]
    },
    {
      "cell_type": "code",
      "metadata": {
        "id": "nAkvAYcmq9l7"
      },
      "source": [
        "model = tf.keras.Sequential([l0])"
      ],
      "execution_count": 43,
      "outputs": []
    },
    {
      "cell_type": "markdown",
      "metadata": {
        "id": "b60kVhLdrt_-"
      },
      "source": [
        "## Компилируем модель с функцией потерь и оптимизаций"
      ]
    },
    {
      "cell_type": "markdown",
      "metadata": {
        "id": "cDejLj7dr3bv"
      },
      "source": [
        "Перед тренировкой модель должна быть скомпилирована (собрана). При компиляции для тренировки необходимы:\n",
        "\n",
        "* **функция потерь** - способ измерения того, насколько далеко предсказываемое значение от желаемого выходного значения (измеримая разница называется \"потерей\").\n",
        "\n",
        "* **функция оптимизации** - способ корректировки внутренних переменных для уменьшения потерь."
      ]
    },
    {
      "cell_type": "code",
      "metadata": {
        "id": "1Q4YEr_QtAjH"
      },
      "source": [
        "model.compile(loss='mean_squared_error',\n",
        "              optimizer=tf.keras.optimizers.Adam(0.1))"
      ],
      "execution_count": 44,
      "outputs": []
    },
    {
      "cell_type": "markdown",
      "metadata": {
        "id": "qYmkC8zFtOxi"
      },
      "source": [
        "Функция потерь и функция оптимизации используются во время тренировки модели (`model.fit(...)` упоминаемая ниже) для выполнения первичных вычислений в каждой точке и последующей оптимизации значений.\n",
        "\n",
        "Действие вычисления текущих потерь и последующее улучшение этих значений в модели - это именно то, чем является тренировка.\n",
        "\n",
        "Во время тренировки, функция оптимизации используется для подсчета корректировок значений внутренних переменных. Цель - подогнать значения внутренних переменных таким образом в модели (а это, по сути, математическая функция), чтобы те отражали непосредственное выражение конвертации градусов Цельсия в градусы Фаренгейта.\n",
        "\n",
        "TensorFlow использует численный анализ для выполнения подобного рода операций оптимизации и вся эта сложность скрыта от ваших глаз, поэтому мы не будем вдаваться в детали в этом курсе.\n",
        "\n",
        "Что полезно знать об этих параметрах:\n",
        "\n",
        "Функция потерь ([среднеквадратичная ошибка](https://www.yandex.ru/search/?text=%D1%81%D1%80%D0%B5%D0%B4%D0%BD%D0%B5%D0%BA%D0%B2%D0%B0%D0%B4%D1%80%D0%B0%D1%82%D0%B8%D1%87%D0%BD%D0%B0%D1%8F%20%D0%BE%D1%88%D0%B8%D0%B1%D0%BA%D0%B0&lr=192&clid=2186621)) и функция оптимизации ([Adam](https://machinelearningmastery.com/adam-optimization-algorithm-for-deep-learning/)), используемые в этом примере, являются стандартными для подобных простых моделей, но кроме них доступно множество других. На данном этапе нам не важно каким образом работают эти функции.\n",
        "\n",
        "На что стоит обратить внимание, так это на функцию оптимизации и параметр - коэффициент скорости обучения (learning rate), который в нашем примере равен `0.1`. Это используемый размер шага при корректировке внутренних значений переменных. Если значение слишком маленькое - понадобится слишком много обучающих итераций для обучения модели. Слишком большое - точность падает. Нахождение хорошего значения коэффициента скорости обучения требует некоторых проб и ошибок, оно обычно находится в интервале от `0.01` (по-умолчанию) до `0.1`."
      ]
    },
    {
      "cell_type": "markdown",
      "metadata": {
        "id": "NR9jCSBnyE3P"
      },
      "source": [
        "### Тренируем модель\n",
        "\n",
        "Тренировка модели осуществляется методом `fit`.\n",
        "\n",
        "Во время тренировки модель получает на вход значения градусов Цельсия, выполняет преобразования используя значения внутренних переменных (называемые \"весами\") и возвращает значения, которые должны соответствовать градусами по Фаренгейту. Так как первоначальные значения весов установлены произвольными, то и результатирующие значения будут далеки от корректных значений. Разница между необходимым результатом и фактическим вычисляется с использованием функции потерь, а функция оптимизации определяет каким образом должны быть подкорректированы веса.\n",
        "\n",
        "Этот цикл вычислений, сравнений и корректировки контролируется внутри метода `fit`. Первый аргумент - входные значения, второй аргумент - желаемые выходные значения. Аргумент `epochs` определяет какое количество раз этот обучающий цикл должен быть выполнен. Аргумент `verbose` контролирует уровень логгирования."
      ]
    },
    {
      "cell_type": "code",
      "metadata": {
        "id": "jjjlpTew0NN6",
        "outputId": "c97a657c-d2ff-470a-d373-545855b9b081",
        "colab": {
          "base_uri": "https://localhost:8080/"
        }
      },
      "source": [
        "history = model.fit(celsius_q, fahrenheit_a, epochs=500, verbose=False)\n",
        "print(\"Завершили тренировку модели\")"
      ],
      "execution_count": 45,
      "outputs": [
        {
          "output_type": "stream",
          "name": "stdout",
          "text": [
            "Завершили тренировку модели\n"
          ]
        }
      ]
    },
    {
      "cell_type": "markdown",
      "metadata": {
        "id": "cawrKuUo0p2M"
      },
      "source": [
        "### Отображаем статистику тренировок\n",
        "\n",
        "Метод `fit` возвращает объект, который содержит информацию об изменении потерь с каждой последующей итерацией. Мы можем воспользоваться этим объектом для построения соответствующего графика потерь. Высокая потеря означает, что значение градусов Фаренгейта, которые предсказала модель, далеки от истинных значений в массиве `fahrenheit_a`.\n",
        "\n",
        "Для визуализации воспользуемся `Matplotlib`. Как вы можете увидеть, наша модель улучшается очень быстро в самом начале, а затем приходит к стабильному и медленному улучшению до тех пор, пока результаты не становятся \"около\"-идеальными в самом конце обучения."
      ]
    },
    {
      "cell_type": "code",
      "metadata": {
        "id": "2iwLL8a-13dM",
        "outputId": "4765c156-66ab-470f-aaf4-f3ebefb5b3b4",
        "colab": {
          "base_uri": "https://localhost:8080/",
          "height": 467
        }
      },
      "source": [
        "import matplotlib.pyplot as plt\n",
        "plt.xlabel('Epoch')\n",
        "plt.ylabel('Loss')\n",
        "plt.plot(history.history['loss'])"
      ],
      "execution_count": 46,
      "outputs": [
        {
          "output_type": "execute_result",
          "data": {
            "text/plain": [
              "[<matplotlib.lines.Line2D at 0x7c634c1f0a90>]"
            ]
          },
          "metadata": {},
          "execution_count": 46
        },
        {
          "output_type": "display_data",
          "data": {
            "text/plain": [
              "<Figure size 640x480 with 1 Axes>"
            ],
            "image/png": "[encoded data removed]"
          },
          "metadata": {}
        }
      ]
    },
    {
      "cell_type": "markdown",
      "metadata": {
        "id": "Zh7gmlf22JTj"
      },
      "source": [
        "### Используем модель для предсказаний\n",
        "\n",
        "Теперь у нас есть модель, которая была обучена на входных значениях `celsius_q` и выходных значениях `fahrenheit_a` для определения взаимосвязи между ними. Мы можем воспользоваться методом предсказания для вычисления тех значений градусов Фаренгейта по которым ранее нам неизвестны были соответствующие градусы Цельсия.\n",
        "\n",
        "Например, сколько будет `100.0` градусов Цельсия по Фаренгейту? Попробуйте угадать перед тем как запускать код ниже."
      ]
    },
    {
      "cell_type": "code",
      "metadata": {
        "id": "6yD6WPer63B6",
        "outputId": "8b02efad-5f67-4576-81a0-a8254d7b3957",
        "colab": {
          "base_uri": "https://localhost:8080/"
        }
      },
      "source": [
        "print(model.predict([100.0]))"
      ],
      "execution_count": 47,
      "outputs": [
        {
          "output_type": "stream",
          "name": "stdout",
          "text": [
            "1/1 [==============================] - 0s 70ms/step\n",
            "[[211.27188]]\n"
          ]
        }
      ]
    },
    {
      "cell_type": "markdown",
      "metadata": {
        "id": "b08TSETg69GU"
      },
      "source": [
        "Правильный ответ $100 \\times 1.8 + 32 = 212$, так что наша модель справилась достаточно хорошо!"
      ]
    },
    {
      "cell_type": "markdown",
      "metadata": {
        "id": "ubHjp42G7H4I"
      },
      "source": [
        "### Ревью\n",
        "\n",
        "* Мы создали модель с использованием Dense-слоя\n",
        "* Мы обучили её на 3500 примерах (7 пар значений, 500 обучающих итераций)\n",
        "\n",
        "Наша модель подогнала значения внутренних переменных (весов) в Dense-слое таким образом, чтобы возвращать правильные значения градусов Фаренгейта на произвольное входное значение градусов Цельсия."
      ]
    },
    {
      "cell_type": "markdown",
      "metadata": {
        "id": "ap-kBE0v8ZbN"
      },
      "source": [
        "## Смотрим на веса в слое"
      ]
    },
    {
      "cell_type": "markdown",
      "metadata": {
        "id": "ZnfdgqFA8gM2"
      },
      "source": [
        "Давайте отобразим значения внутренних переменных Dense-слоя."
      ]
    },
    {
      "cell_type": "code",
      "metadata": {
        "id": "xP0z1Tgt8s8N",
        "outputId": "38544950-dbf7-4f48-a0ab-e014260b0cfc",
        "colab": {
          "base_uri": "https://localhost:8080/"
        }
      },
      "source": [
        "print(\"Это значения переменных слоя: {}\".format(l0.get_weights()))"
      ],
      "execution_count": 48,
      "outputs": [
        {
          "output_type": "stream",
          "name": "stdout",
          "text": [
            "Это значения переменных слоя: [array([[1.8297689]], dtype=float32), array([28.295004], dtype=float32)]\n"
          ]
        }
      ]
    },
    {
      "cell_type": "markdown",
      "metadata": {
        "id": "lS5egrrq81Re"
      },
      "source": [
        "Значение первой переменной близко к ~1.8 , а второй к ~32. Эти значения (1.8 и 32) являются непосредственными значениями в  формуле конвертации градусов Цельсия в градусы Фаренгейта.\n",
        "\n",
        "Это действительно очень близко к фактическим значениям в формуле! Мы рассмотрим этот момент подробнее в последующих видео, где мы покажем, каким образом работает Dense-слой, а пока стоит знать лишь то, что один нейрон с единственным входом и выходом, содержит в себе простую математику - `y = mx + b` (уравнение прямой), которая представляет собой не что иное, как нашу с вами формулу преобразования градусов Цельсия в градусы Фаренгейта, `f = 1.8c + 32`.\n",
        "\n",
        "Так как представления одинаковые, то и значения внутренних переменных модели должны были сойтись к тем, которые представлены в фактической формуле, что и произошло в итоге.\n",
        "\n",
        "При наличие дополнительных нейронов, дополнительных входных значений и выходных значений, формула становится немного сложнее, но суть остаётся той же."
      ]
    },
    {
      "cell_type": "markdown",
      "metadata": {
        "id": "Z_wzpyD--ssQ"
      },
      "source": [
        "### Немного экспериментов\n",
        "\n",
        "Ради веселья! Что будет, если мы создадим больше Dense-слоёв с большим количеством нейронов, которые, в свою очередь, будут содержать больше внутренних переменных?"
      ]
    },
    {
      "cell_type": "code",
      "metadata": {
        "id": "sPxZ3oba--ES",
        "outputId": "0068c581-3f6a-4277-a580-f8fc8e939bc5",
        "colab": {
          "base_uri": "https://localhost:8080/"
        }
      },
      "source": [
        "l0 = tf.keras.layers.Dense(units=4, input_shape=[1])\n",
        "l1 = tf.keras.layers.Dense(units=4)\n",
        "l2 = tf.keras.layers.Dense(units=1)\n",
        "model = tf.keras.Sequential([l0, l1, l2])\n",
        "model.compile(loss='mean_squared_error', optimizer=tf.keras.optimizers.Adam(0.1))\n",
        "model.fit(celsius_q, fahrenheit_a, epochs=500, verbose=False)\n",
        "print(\"Закончили обучение модели\")\n",
        "print(model.predict([100.0]))\n",
        "print(\"Модель предсказала, что 100 градусов Цельсия соответствуют {} градусам Фаренгейта\".format(model.predict([100.0])))\n",
        "print(\"Значения внутренних переменных слоя l0: {}\".format(l0.get_weights()))\n",
        "print(\"Значения внутренних переменных слоя l1: {}\".format(l1.get_weights()))\n",
        "print(\"Значения внутренних переменных слоя l2: {}\".format(l2.get_weights()))"
      ],
      "execution_count": 49,
      "outputs": [
        {
          "output_type": "stream",
          "name": "stderr",
          "text": [
            "WARNING:tensorflow:5 out of the last 7 calls to <function Model.make_predict_function.<locals>.predict_function at 0x7c633545ca60> triggered tf.function retracing. Tracing is expensive and the excessive number of tracings could be due to (1) creating @tf.function repeatedly in a loop, (2) passing tensors with different shapes, (3) passing Python objects instead of tensors. For (1), please define your @tf.function outside of the loop. For (2), @tf.function has reduce_retracing=True option that can avoid unnecessary retracing. For (3), please refer to https://www.tensorflow.org/guide/function#controlling_retracing and https://www.tensorflow.org/api_docs/python/tf/function for  more details.\n"
          ]
        },
        {
          "output_type": "stream",
          "name": "stdout",
          "text": [
            "Закончили обучение модели\n",
            "1/1 [==============================] - 0s 78ms/step\n",
            "[[211.74742]]\n",
            "1/1 [==============================] - 0s 40ms/step\n",
            "Модель предсказала, что 100 градусов Цельсия соответствуют [[211.74742]] градусам Фаренгейта\n",
            "Значения внутренних переменных слоя l0: [array([[-0.72914284,  0.06573275, -0.03936328,  0.7294816 ]],\n",
            "      dtype=float32), array([-3.4092996, -2.778593 , -3.4129717,  3.5912585], dtype=float32)]\n",
            "Значения внутренних переменных слоя l1: [array([[ 0.76554924, -0.22016776,  0.7340072 ,  0.49651814],\n",
            "       [-0.29751214, -0.14007226, -0.17226948,  0.9948344 ],\n",
            "       [ 0.16791889,  0.48270783,  0.62501764,  1.4176875 ],\n",
            "       [ 0.41750163,  0.4689142 , -0.9002534 , -0.69332933]],\n",
            "      dtype=float32), array([ 3.057391 , -2.5057836, -3.2632987, -3.5610902], dtype=float32)]\n",
            "Значения внутренних переменных слоя l2: [array([[ 0.3329633 ],\n",
            "       [-0.24360536],\n",
            "       [-0.7421882 ],\n",
            "       [-1.2763551 ]], dtype=float32), array([3.40163], dtype=float32)]\n"
          ]
        }
      ]
    },
    {
      "cell_type": "markdown",
      "metadata": {
        "id": "DggHDooFAATS"
      },
      "source": [
        "Как вы могли уже заметить, текущая модель тоже способна достаточно хорошо предсказывать соответствующие значения градусов Фаренгейта. Однако, если взглянуть на значения внутренних переменных (веса) нейронов по слоям, то никаких значений похожих на `1.8` и `32` мы уже не увидим. Добавленная  сложность модели скрывает \"простую\" форму преобразования градусов Цельсия в градусы Фаренгейта."
      ]
    }
  ]
}