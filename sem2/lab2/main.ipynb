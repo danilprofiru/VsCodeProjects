{
 "cells": [
  {
   "cell_type": "markdown",
   "metadata": {},
   "source": [
    "Лабораторная работа ВВИТ №2: Освоение многомерных массивов и математических операций с NumPy\n",
    "\n",
    "Цель лабораторной работы: Изучить основные возможности библиотеки NumPy для работы с многомерными массивами, выполнения математических операций, индексирования и срезов данных, а также применения функций для обработки и анализа данных."
   ]
  },
  {
   "cell_type": "markdown",
   "metadata": {},
   "source": [
    "Задание 1:\n",
    "1. Загрузите датасет пассажиров титаника с помощью библиотеки pandas.\n",
    "2. Создайте массив numpy, содержащий данные о выживших пассажирах (колонка \"Survived\").\n",
    "3. Посчитайте общее количество выживших пассажиров."
   ]
  },
  {
   "cell_type": "code",
   "execution_count": 12,
   "metadata": {},
   "outputs": [
    {
     "data": {
      "text/plain": [
       "342"
      ]
     },
     "execution_count": 12,
     "metadata": {},
     "output_type": "execute_result"
    }
   ],
   "source": [
    "import pandas as pd\n",
    "import numpy as np\n",
    "\n",
    "#Прочтение файла train\n",
    "titanic_data = pd.read_csv('./files/train.csv')\n",
    "\n",
    "#Создание массива с данными о выживших пассажирах\n",
    "numpy = np.array(train[\"Survived\"])\n",
    "\n",
    "#Подсчет не нулевых значений\n",
    "np.count_nonzero(numpy == 1)"
   ]
  },
  {
   "cell_type": "markdown",
   "metadata": {},
   "source": [
    "Задание 2:\n",
    "1. Создайте двумерный массив numpy, содержащий данные о возрасте (колонка \"Age\") и стоимости билета (колонка \"Fare\") пассажиров.\n",
    "2. Отсортируйте массив по возрасту пассажиров.\n",
    "3. Выведите информацию о самом молодом и самом старом пассажире."
   ]
  },
  {
   "cell_type": "code",
   "execution_count": 25,
   "metadata": {},
   "outputs": [
    {
     "name": "stdout",
     "output_type": "stream",
     "text": [
      "Отсортированный массив по возрасту:\n",
      "[[ 0.42    8.5167]\n",
      " [ 0.67   14.5   ]\n",
      " [ 0.75   19.2583]\n",
      " ...\n",
      " [71.     49.5042]\n",
      " [74.      7.775 ]\n",
      " [80.     30.    ]]\n",
      "\n",
      "Информация о самом молодом пассажире:\n",
      "PassengerId                                804\n",
      "Survived                                     1\n",
      "Pclass                                       3\n",
      "Name           Thomas, Master. Assad Alexander\n",
      "Sex                                       male\n",
      "Age                                       0.42\n",
      "SibSp                                        0\n",
      "Parch                                        1\n",
      "Ticket                                    2625\n",
      "Fare                                    8.5167\n",
      "Cabin                                      NaN\n",
      "Embarked                                     C\n",
      "Name: 803, dtype: object\n",
      "\n",
      "Информация о самом старом пассажире:\n",
      "PassengerId                                     631\n",
      "Survived                                          1\n",
      "Pclass                                            1\n",
      "Name           Barkworth, Mr. Algernon Henry Wilson\n",
      "Sex                                            male\n",
      "Age                                            80.0\n",
      "SibSp                                             0\n",
      "Parch                                             0\n",
      "Ticket                                        27042\n",
      "Fare                                           30.0\n",
      "Cabin                                           A23\n",
      "Embarked                                          S\n",
      "Name: 630, dtype: object\n"
     ]
    }
   ],
   "source": [
    "import numpy as np\n",
    "import pandas as pd\n",
    "\n",
    "#Прочтение файла train\n",
    "titanic_data = pd.read_csv('./files/train.csv')\n",
    "\n",
    "#Извлечение данных о возрасте и стоимости билета\n",
    "age_fare_data = titanic_data[['Age', 'Fare']].to_numpy()\n",
    "\n",
    "#Сортировка массива по возрасту\n",
    "sorted_age_fare_data = age_fare_data[np.argsort(age_fare_data[:, 0])]\n",
    "\n",
    "#Удаление строк с NaN значениями\n",
    "sorted_age_fare_data = sorted_age_fare_data[~np.isnan(sorted_age_fare_data).any(axis=1)]\n",
    "\n",
    "#Вывод отсортированного массива\n",
    "print(\"Отсортированный массив по возрасту:\")\n",
    "print(sorted_age_fare_data)\n",
    "\n",
    "#Индекс самого молодого пассажира в оригинальных данных\n",
    "youngest_passenger_index = np.where((titanic_data['Age'] == sorted_age_fare_data[0, 0]) & (titanic_data['Fare'] == sorted_age_fare_data[0, 1]))[0][0]\n",
    "\n",
    "#Индекс самого старого пассажира в оригинальных данных\n",
    "oldest_passenger_index = np.where((titanic_data['Age'] == sorted_age_fare_data[-1, 0]) & (titanic_data['Fare'] == sorted_age_fare_data[-1, 1]))[0][0]\n",
    "\n",
    "#Вывод информации о самом молодом пассажире\n",
    "print(\"\\nИнформация о самом молодом пассажире:\")\n",
    "print(titanic_data.iloc[youngest_passenger_index])\n",
    "\n",
    "#Вывод информации о самом старом пассажире\n",
    "print(\"\\nИнформация о самом старом пассажире:\")\n",
    "print(titanic_data.iloc[oldest_passenger_index])"
   ]
  },
  {
   "cell_type": "markdown",
   "metadata": {},
   "source": [
    "Задание 3:\n",
    "1. Создайте массив numpy, содержащий данные о количестве родственников (колонки \"SibSp\" и \"Parch\") у пассажиров.\n",
    "2. Посчитайте общее количество родственников на борту.\n",
    "3. Определите пассажира с наибольшим количеством родственников."
   ]
  },
  {
   "cell_type": "code",
   "execution_count": 22,
   "metadata": {},
   "outputs": [
    {
     "name": "stdout",
     "output_type": "stream",
     "text": [
      "Общее количество родственников на борту: 806\n",
      "Пассажир с наибольшим количеством родственников: PassengerId                           160\n",
      "Survived                                0\n",
      "Pclass                                  3\n",
      "Name           Sage, Master. Thomas Henry\n",
      "Sex                                  male\n",
      "Age                                   NaN\n",
      "SibSp                                   8\n",
      "Parch                                   2\n",
      "Ticket                           CA. 2343\n",
      "Fare                                69.55\n",
      "Cabin                                 NaN\n",
      "Embarked                                S\n",
      "Name: 159, dtype: object\n"
     ]
    }
   ],
   "source": [
    "import numpy as np\n",
    "import pandas as pd\n",
    "\n",
    "#Прочтение файла train\n",
    "titanic_data = pd.read_csv(\"./files/train.csv\")\n",
    "\n",
    "#Создаем массив NumPy с количеством родственников (SibSp и Parch)\n",
    "relatives_array = titanic_data[[\"SibSp\", \"Parch\"]].values\n",
    "\n",
    "#Посчитаем общее количество родственников\n",
    "total_relatives = np.sum(relatives_array, axis=1)\n",
    "\n",
    "#Найдем пассажира с наибольшим количеством родственников\n",
    "passenger_with_max_relatives = np.argmax(total_relatives)\n",
    "\n",
    "# Выведем результаты\n",
    "print(\"Общее количество родственников на борту:\", total_relatives.sum())\n",
    "print(\"Пассажир с наибольшим количеством родственников:\", titanic_data.iloc[passenger_with_max_relatives])"
   ]
  }
 ],
 "metadata": {
  "kernelspec": {
   "display_name": "Python 3",
   "language": "python",
   "name": "python3"
  },
  "language_info": {
   "name": "python",
   "version": "3.11.undefined"
  }
 },
 "nbformat": 4,
 "nbformat_minor": 2
}
